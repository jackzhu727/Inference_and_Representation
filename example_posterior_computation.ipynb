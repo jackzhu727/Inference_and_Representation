{
 "cells": [
  {
   "cell_type": "code",
   "execution_count": 1,
   "metadata": {},
   "outputs": [],
   "source": [
    "import scipy.special as sp"
   ]
  },
  {
   "cell_type": "markdown",
   "metadata": {},
   "source": [
    "Example from class: we have 5 urns numbered ui i=0,1,2,3,4, each of urns has i black balls and 4-i white balls. I perform the following experiment: I choose an urn and draw 5 balls with replacement from it. I don't tell you which urn I chose, but I tell you that in the experiment I drew 2 black balls and 3 white ones. \n",
    "Question: what is the probability that I chose the urn ui?"
   ]
  },
  {
   "cell_type": "code",
   "execution_count": 7,
   "metadata": {},
   "outputs": [],
   "source": [
    "#b: total black balls in the urn\n",
    "#k: total balls in the urn (4 in our example)\n",
    "#nb: number of black balls drawn in the experiment\n",
    "#N: total number of balls drawn in the experiment\n",
    "\n",
    "#forward probability P(nb|u,N)\n",
    "def P(b, k, nb, N):\n",
    "    return sp.binom(N, nb)*(b/k)**nb*(1-b/k)**(N-nb)"
   ]
  },
  {
   "cell_type": "code",
   "execution_count": 17,
   "metadata": {},
   "outputs": [
    {
     "data": {
      "text/plain": [
       "0.1328125"
      ]
     },
     "execution_count": 17,
     "metadata": {},
     "output_type": "execute_result"
    }
   ],
   "source": [
    "#P(nb|N) \n",
    "norm_constant=sum([P(i,4,2,5)*(1/5) for i in [0,1,2,3,4]])\n",
    "norm_constant"
   ]
  },
  {
   "cell_type": "code",
   "execution_count": 18,
   "metadata": {},
   "outputs": [],
   "source": [
    "#P(u|nb, N)=P(nb|u, N)*P(u)/P(nb|b)\n",
    "#we assume uniform prior (each of the urns is chosen with same probability)\n",
    "#u=1\n",
    "u0=P(0,4,2,5)*(1/5)/norm_constant\n",
    "u1=P(1,4,2,5)*(1/5)/norm_constant\n",
    "u2=P(2,4,2,5)*(1/5)/norm_constant\n",
    "u3=P(3,4,2,5)*(1/5)/norm_constant\n",
    "u4=P(4,4,2,5)*(1/5)/norm_constant"
   ]
  },
  {
   "cell_type": "code",
   "execution_count": 21,
   "metadata": {},
   "outputs": [
    {
     "name": "stdout",
     "output_type": "stream",
     "text": [
      "0.0 0.39705882352941174 0.47058823529411764 0.1323529411764706 0.0\n"
     ]
    }
   ],
   "source": [
    "print(u0,u1,u2,u3, u4)\n",
    "#observe that u0 and u4 have probability 0, since the outcome of the experiment is impossible in this setting"
   ]
  },
  {
   "cell_type": "code",
   "execution_count": 20,
   "metadata": {},
   "outputs": [
    {
     "data": {
      "text/plain": [
       "1.0"
      ]
     },
     "execution_count": 20,
     "metadata": {},
     "output_type": "execute_result"
    }
   ],
   "source": [
    "sum([u1,u2,u3])"
   ]
  },
  {
   "cell_type": "code",
   "execution_count": 22,
   "metadata": {},
   "outputs": [
    {
     "data": {
      "text/plain": [
       "0.4338235294117647"
      ]
     },
     "execution_count": 22,
     "metadata": {},
     "output_type": "execute_result"
    }
   ],
   "source": [
    "# I draw another ball from the same urn. What is the probability that it's black?\n",
    "1/4*u1+2/4*u2+3/4*u3"
   ]
  },
  {
   "cell_type": "code",
   "execution_count": null,
   "metadata": {},
   "outputs": [],
   "source": []
  }
 ],
 "metadata": {
  "kernelspec": {
   "display_name": "Python 3",
   "language": "python",
   "name": "python3"
  },
  "language_info": {
   "codemirror_mode": {
    "name": "ipython",
    "version": 3
   },
   "file_extension": ".py",
   "mimetype": "text/x-python",
   "name": "python",
   "nbconvert_exporter": "python",
   "pygments_lexer": "ipython3",
   "version": "3.7.3"
  }
 },
 "nbformat": 4,
 "nbformat_minor": 2
}
