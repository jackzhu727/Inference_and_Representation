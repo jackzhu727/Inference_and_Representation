{
 "cells": [
  {
   "cell_type": "code",
   "execution_count": 1,
   "metadata": {
    "ExecuteTime": {
     "end_time": "2019-09-09T20:13:27.774649Z",
     "start_time": "2019-09-09T20:13:27.757544Z"
    }
   },
   "outputs": [],
   "source": [
    "import numpy as np\n",
    "from collections import Counter\n",
    "\n",
    "def data_loader():\n",
    "    with open('train','r') as file:\n",
    "        train_data = file.read().split('\\n')[:-1]\n",
    "    with open('test','r') as file:\n",
    "        test_data = file.read().split('\\n')[:-1]\n",
    "    return train_data, test_data\n",
    "\n",
    "def parser(datum):\n",
    "    email_addr, label, words = datum.split(' ',2)\n",
    "    words = words.split()\n",
    "    word_dict = dict(zip([words[i] for i in range(0, len(words), 2)], [words[i+1] for i in range(0, len(words), 2)]))\n",
    "    if label == 'spam':\n",
    "        label = 1\n",
    "    else:\n",
    "        label = 0\n",
    "    return label, word_dict\n",
    "\n",
    "def data_preprocessing(train_data, test_data):\n",
    "    y_train = np.zeros(len(train_data))\n",
    "    y_test = np.zeros(len(test_data))\n",
    "    x_train = []\n",
    "    x_test = []\n",
    "    for i, datum in enumerate(train_data):\n",
    "        label, word_dict = parser(datum)\n",
    "        y_train[i] = label\n",
    "        x_train.append(word_dict)\n",
    "    for i, datum in enumerate(test_data):\n",
    "        label, word_dict = parser(datum)\n",
    "        y_test[i] = label\n",
    "        x_test.append(word_dict)\n",
    "    return x_train, y_train, x_test, y_test\n",
    "\n",
    "def compute_prior(y_train):\n",
    "    ratio = Counter(y_train)\n",
    "    return ratio[1]/len(y_train), ratio[0]/len(y_train)"
   ]
  },
  {
   "cell_type": "code",
   "execution_count": 2,
   "metadata": {
    "ExecuteTime": {
     "end_time": "2019-09-09T20:13:34.584624Z",
     "start_time": "2019-09-09T20:13:33.476677Z"
    }
   },
   "outputs": [
    {
     "name": "stdout",
     "output_type": "stream",
     "text": [
      "Prior:\n",
      "0.5736666666666667 0.42633333333333334\n"
     ]
    }
   ],
   "source": [
    "train_data, test_data = data_loader()\n",
    "x_train, y_train, x_test, y_test = data_preprocessing(train_data, test_data)\n",
    "p_spam, p_ham = compute_prior(y_train)\n",
    "print('Prior:')\n",
    "print(p_spam, p_ham)"
   ]
  },
  {
   "cell_type": "code",
   "execution_count": null,
   "metadata": {},
   "outputs": [],
   "source": []
  }
 ],
 "metadata": {
  "kernelspec": {
   "display_name": "Python 3",
   "language": "python",
   "name": "python3"
  },
  "language_info": {
   "codemirror_mode": {
    "name": "ipython",
    "version": 3
   },
   "file_extension": ".py",
   "mimetype": "text/x-python",
   "name": "python",
   "nbconvert_exporter": "python",
   "pygments_lexer": "ipython3",
   "version": "3.7.3"
  },
  "latex_envs": {
   "LaTeX_envs_menu_present": true,
   "autoclose": false,
   "autocomplete": true,
   "bibliofile": "biblio.bib",
   "cite_by": "apalike",
   "current_citInitial": 1,
   "eqLabelWithNumbers": true,
   "eqNumInitial": 1,
   "hotkeys": {
    "equation": "Ctrl-E",
    "itemize": "Ctrl-I"
   },
   "labels_anchors": false,
   "latex_user_defs": false,
   "report_style_numbering": false,
   "user_envs_cfg": false
  },
  "toc": {
   "base_numbering": 1,
   "nav_menu": {},
   "number_sections": true,
   "sideBar": true,
   "skip_h1_title": false,
   "title_cell": "Table of Contents",
   "title_sidebar": "Contents",
   "toc_cell": false,
   "toc_position": {},
   "toc_section_display": true,
   "toc_window_display": false
  },
  "varInspector": {
   "cols": {
    "lenName": 16,
    "lenType": 16,
    "lenVar": 40
   },
   "kernels_config": {
    "python": {
     "delete_cmd_postfix": "",
     "delete_cmd_prefix": "del ",
     "library": "var_list.py",
     "varRefreshCmd": "print(var_dic_list())"
    },
    "r": {
     "delete_cmd_postfix": ") ",
     "delete_cmd_prefix": "rm(",
     "library": "var_list.r",
     "varRefreshCmd": "cat(var_dic_list()) "
    }
   },
   "types_to_exclude": [
    "module",
    "function",
    "builtin_function_or_method",
    "instance",
    "_Feature"
   ],
   "window_display": false
  }
 },
 "nbformat": 4,
 "nbformat_minor": 2
}
