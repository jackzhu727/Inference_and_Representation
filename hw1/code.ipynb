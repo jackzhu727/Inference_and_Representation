{
 "cells": [
  {
   "cell_type": "code",
   "execution_count": 1,
   "metadata": {
    "ExecuteTime": {
     "end_time": "2019-09-16T03:23:32.083343Z",
     "start_time": "2019-09-16T03:23:32.058412Z"
    },
    "pycharm": {
     "is_executing": true
    }
   },
   "outputs": [],
   "source": [
    "import numpy as np\n",
    "from collections import Counter\n",
    "\n",
    "def data_loader():\n",
    "    # load data\n",
    "    with open('train','r') as file:\n",
    "        train_data = file.read().split('\\n')[:-1]\n",
    "    with open('test','r') as file:\n",
    "        test_data = file.read().split('\\n')[:-1]\n",
    "    return train_data, test_data\n",
    "\n",
    "def parser(datum):\n",
    "    # extract labels and words\n",
    "    email_addr, label, words = datum.split(' ',2)\n",
    "    words = words.split()\n",
    "    # transform words into dictionary\n",
    "    word_dict = dict(zip([words[i] for i in range(0, len(words), 2)], [int(words[i+1]) for i in range(0, len(words), 2)]))\n",
    "    # transform label into 0, 1\n",
    "    if label == 'spam':\n",
    "        label = 1\n",
    "    else:\n",
    "        label = 0\n",
    "    return label, word_dict\n",
    "\n",
    "def data_preprocessing(train_data, test_data):\n",
    "    y_train = np.zeros(len(train_data))\n",
    "    y_test = np.zeros(len(test_data))\n",
    "    x_train = []\n",
    "    x_test = []\n",
    "    for i, datum in enumerate(train_data):\n",
    "        label, word_dict = parser(datum)\n",
    "        y_train[i] = label\n",
    "        x_train.append(word_dict)\n",
    "    for i, datum in enumerate(test_data):\n",
    "        label, word_dict = parser(datum)\n",
    "        y_test[i] = label\n",
    "        x_test.append(word_dict)\n",
    "    return x_train, y_train, x_test, y_test\n",
    "\n",
    "def compute_prior(y_train):\n",
    "    # compte prior distribution P(spam) and P(ham)\n",
    "    ratio = Counter(y_train)\n",
    "    return ratio[1]/len(y_train), ratio[0]/len(y_train)\n",
    "\n",
    "def m_estimation_conditional_probability(x_train_frt, y_train, num_vocab, a):\n",
    "    # compute P(w_j|spam) and P(w_j|ham)\n",
    "    spam_idx = np.where(y_train == 1)[0]\n",
    "    ham_idx = np.where(y_train == 0)[0]\n",
    "    x_spam = x_train_frt[spam_idx, :]\n",
    "    x_ham = x_train_frt[ham_idx, :]\n",
    "    n_c = x_spam.sum(axis = 0)\n",
    "    n = x_spam.sum()\n",
    "    p = 1 / num_vocab\n",
    "    m = num_vocab * a\n",
    "    p_on_spam = (n_c + m*p) / (n+m)\n",
    "    n_c = x_ham.sum(axis = 0)\n",
    "    n = x_ham.sum()\n",
    "    p_on_ham = (n_c + m*p) / (n+m)\n",
    "    return p_on_spam, p_on_ham\n",
    "\n",
    "def log_estimated_probability(p_spam, p_ham, p_on_spam_m, p_on_ham_m, x_frts):\n",
    "    # compute log(P(spam, w_1, w_2,..., w_n)) and log(P(ham, w_1, w_2,..., w_n))\n",
    "    p_spam_lookup = (x_frts > 0) * p_on_spam_m\n",
    "    p_ham_lookup = (x_frts > 0) * p_on_ham_m\n",
    "    p_spam_lookup[p_spam_lookup == 0] = 1\n",
    "    p_ham_lookup[p_ham_lookup == 0] = 1\n",
    "    log_p_spam = np.log(p_spam) + np.log(p_spam_lookup).sum(axis = 1)\n",
    "    log_p_ham = np.log(p_ham) + np.log(p_ham_lookup).sum(axis = 1)\n",
    "    return log_p_spam, log_p_ham\n",
    "\n",
    "def accuarcy(y_true, y_pred):\n",
    "    # calculate accuracy\n",
    "    assert len(y_true) == len(y_pred)\n",
    "    return (y_true==y_pred).sum()/len(y_true)"
   ]
  },
  {
   "cell_type": "markdown",
   "metadata": {
    "ExecuteTime": {
     "end_time": "2019-09-11T02:46:56.253606Z",
     "start_time": "2019-09-11T02:46:54.907026Z"
    },
    "pycharm": {
     "is_executing": true
    }
   },
   "source": [
    "## Load and preprocess data"
   ]
  },
  {
   "cell_type": "code",
   "execution_count": 2,
   "metadata": {
    "ExecuteTime": {
     "end_time": "2019-09-16T03:23:33.080338Z",
     "start_time": "2019-09-16T03:23:32.102215Z"
    }
   },
   "outputs": [],
   "source": [
    "# load data\n",
    "train_data, test_data = data_loader()\n",
    "\n",
    "# extract labels to 0,1 and features to dicticnary\n",
    "x_train, y_train, x_test, y_test = data_preprocessing(train_data, test_data)"
   ]
  },
  {
   "cell_type": "markdown",
   "metadata": {},
   "source": [
    "##  Compute prior $P(\\text{spam})$ and $P(\\text{ham})$"
   ]
  },
  {
   "cell_type": "code",
   "execution_count": 3,
   "metadata": {
    "ExecuteTime": {
     "end_time": "2019-09-16T03:23:33.095891Z",
     "start_time": "2019-09-16T03:23:33.080338Z"
    }
   },
   "outputs": [
    {
     "name": "stdout",
     "output_type": "stream",
     "text": [
      "Prior:\n",
      "0.5736666666666667 0.42633333333333334\n"
     ]
    }
   ],
   "source": [
    "# compute_prior\n",
    "p_spam, p_ham = compute_prior(y_train)\n",
    "print('Prior:')\n",
    "print(p_spam, p_ham)"
   ]
  },
  {
   "cell_type": "markdown",
   "metadata": {},
   "source": [
    "Transform word dicts to feature vectors"
   ]
  },
  {
   "cell_type": "code",
   "execution_count": 4,
   "metadata": {
    "ExecuteTime": {
     "end_time": "2019-09-16T03:23:35.413028Z",
     "start_time": "2019-09-16T03:23:33.099711Z"
    }
   },
   "outputs": [],
   "source": [
    "from sklearn.feature_extraction import DictVectorizer\n",
    "vectorizer = DictVectorizer(sparse=False)\n",
    "x_train_frt = vectorizer.fit_transform(x_train)\n",
    "x_test_frt = vectorizer.transform(x_test)"
   ]
  },
  {
   "cell_type": "markdown",
   "metadata": {
    "ExecuteTime": {
     "end_time": "2019-09-15T01:05:14.632432Z",
     "start_time": "2019-09-15T01:05:14.626710Z"
    }
   },
   "source": [
    "## Compute $P(w_j \\mid spam)$ and $P(w_j \\mid ham)$ by m-estimator"
   ]
  },
  {
   "cell_type": "code",
   "execution_count": 5,
   "metadata": {
    "ExecuteTime": {
     "end_time": "2019-09-16T03:23:35.493757Z",
     "start_time": "2019-09-16T03:23:35.416966Z"
    }
   },
   "outputs": [],
   "source": [
    "p_on_spam_m, p_on_ham_m = m_estimation_conditional_probability(x_train_frt, y_train, x_train_frt.shape[1], 1)"
   ]
  },
  {
   "cell_type": "markdown",
   "metadata": {},
   "source": [
    "Top 5 spam word given spam"
   ]
  },
  {
   "cell_type": "code",
   "execution_count": 6,
   "metadata": {
    "ExecuteTime": {
     "end_time": "2019-09-16T03:23:35.513499Z",
     "start_time": "2019-09-16T03:23:35.495754Z"
    }
   },
   "outputs": [
    {
     "data": {
      "text/plain": [
       "{'enron': 0.0381943878447375,\n",
       " 'a': 0.023618529446035274,\n",
       " 'corp': 0.02173790984979796,\n",
       " 'the': 0.02142517760233378,\n",
       " 'to': 0.019687038335056983}"
      ]
     },
     "execution_count": 6,
     "metadata": {},
     "output_type": "execute_result"
    }
   ],
   "source": [
    "dict(zip(np.array(vectorizer.feature_names_)[np.array(np.argsort(p_on_spam_m)[::-1]).ravel()[:5]], \n",
    "         p_on_spam_m[np.array(np.argsort(p_on_spam_m)[::-1]).ravel()[:5]]))"
   ]
  },
  {
   "cell_type": "markdown",
   "metadata": {
    "ExecuteTime": {
     "end_time": "2019-09-16T02:58:53.093050Z",
     "start_time": "2019-09-16T02:58:53.088066Z"
    }
   },
   "source": [
    "Top 5 spam word given ham"
   ]
  },
  {
   "cell_type": "code",
   "execution_count": 7,
   "metadata": {
    "ExecuteTime": {
     "end_time": "2019-09-16T03:23:35.526463Z",
     "start_time": "2019-09-16T03:23:35.515529Z"
    }
   },
   "outputs": [
    {
     "data": {
      "text/plain": [
       "{'aaaaaaaaaaaaaaaaaaaaaaaaaaaaaaaaaaaaaaaaaaaaaaaaaaaaaaaaaaaaaaaaaaaaaaaaaaaa': 0.044321708617828505,\n",
       " 'enron': 0.04244372379371936,\n",
       " 'the': 0.0331690756387682,\n",
       " 'to': 0.025329676593911908,\n",
       " 'a': 0.017736664090903333}"
      ]
     },
     "execution_count": 7,
     "metadata": {},
     "output_type": "execute_result"
    }
   ],
   "source": [
    "dict(zip(np.array(vectorizer.feature_names_)[np.array(np.argsort(p_on_ham_m)[::-1]).ravel()[:5]], \n",
    "         p_on_ham_m[np.array(np.argsort(p_on_ham_m)[::-1]).ravel()[:5]]))"
   ]
  },
  {
   "cell_type": "markdown",
   "metadata": {},
   "source": [
    "## Predict and validation\n",
    "\n",
    "Comparing $P(spam|w_1, w_2, \\cdots, w_n)$ and $P(ham|w_1, w_2, \\cdots, w_n)$ is equivalent to comparing $P(spam, w_1, w_2, \\cdots, w_n)$ and $P(ham, w_1, w_2, \\cdots, w_n)$. Therefore, $P(spam, w_1, w_2, \\cdots, w_n)$ and $P(ham, w_1, w_2, \\cdots, w_n)$ are compared to tell whether the email is spam or ham."
   ]
  },
  {
   "cell_type": "code",
   "execution_count": 8,
   "metadata": {
    "ExecuteTime": {
     "end_time": "2019-09-16T03:23:35.575727Z",
     "start_time": "2019-09-16T03:23:35.527461Z"
    }
   },
   "outputs": [
    {
     "data": {
      "text/plain": [
       "0.908"
      ]
     },
     "execution_count": 8,
     "metadata": {},
     "output_type": "execute_result"
    }
   ],
   "source": [
    "# compute log(P(spam, w_1, w_2,..., w_n)) and log(P(ham, w_1, w_2,..., w_n))\n",
    "log_p_spam,log_p_ham = log_estimated_probability(p_spam, p_ham, p_on_spam_m, p_on_ham_m, x_test_frt)\n",
    "test_pred = (log_p_spam > log_p_ham)\n",
    "# compute accuracy\n",
    "accuarcy(y_test, test_pred)"
   ]
  },
  {
   "cell_type": "markdown",
   "metadata": {},
   "source": [
    "## Grid search for the best m"
   ]
  },
  {
   "cell_type": "code",
   "execution_count": 9,
   "metadata": {
    "ExecuteTime": {
     "end_time": "2019-09-16T03:23:35.588694Z",
     "start_time": "2019-09-16T03:23:35.578722Z"
    }
   },
   "outputs": [],
   "source": [
    "def pipeline(x_train_frt, y_train, x_test_frt, y_test, a):\n",
    "    p_spam, p_ham = compute_prior(y_train)\n",
    "    p_on_spam_m, p_on_ham_m = m_estimation_conditional_probability(x_train_frt, y_train, x_train_frt.shape[1], a)\n",
    "    log_p_spam,log_p_ham = log_estimated_probability(p_spam, p_ham, p_on_spam_m, p_on_ham_m, x_test_frt)\n",
    "    test_pred = (log_p_spam > log_p_ham)\n",
    "    print(str(a) + \":\" + str(accuarcy(y_test, test_pred)))"
   ]
  },
  {
   "cell_type": "code",
   "execution_count": 10,
   "metadata": {
    "ExecuteTime": {
     "end_time": "2019-09-16T03:23:36.280924Z",
     "start_time": "2019-09-16T03:23:35.595675Z"
    }
   },
   "outputs": [
    {
     "name": "stdout",
     "output_type": "stream",
     "text": [
      "1:0.908\n",
      "10:0.911\n",
      "100:0.916\n",
      "1000:0.863\n",
      "10000:0.778\n"
     ]
    }
   ],
   "source": [
    "a_grid = [1, 10,100,1000,10000]\n",
    "for a in a_grid:\n",
    "    pipeline(x_train_frt, y_train, x_test_frt, y_test, a)"
   ]
  },
  {
   "cell_type": "markdown",
   "metadata": {
    "ExecuteTime": {
     "end_time": "2019-09-15T01:28:51.052873Z",
     "start_time": "2019-09-15T01:28:51.039448Z"
    }
   },
   "source": [
    "We have the highest accuarcy at $m = 100$. For $m$ small, the impact of prior is weak, $P(w_j \\mid spam)$ are dominated by $n_c/n$. This might leads to easy overfit. For $m$ large, the impact of prior is strong, $P(w_j \\mid spam)$ dominated by $p$. In this case, different word won't have different impact on the final decision, which may leads to underfit. Therefore, $m$ can be neither too larger nor to small, and our experiment also indicate that $m = 100$ is a good hyperparameter."
   ]
  },
  {
   "cell_type": "markdown",
   "metadata": {
    "ExecuteTime": {
     "end_time": "2019-09-15T20:50:54.466808Z",
     "start_time": "2019-09-15T20:50:54.450814Z"
    }
   },
   "source": [
    "## How to beat the classifier?"
   ]
  },
  {
   "cell_type": "markdown",
   "metadata": {},
   "source": [
    "I will try to paraphrase words with high $P(w_j \\mid spam)$ and low $P(w_j \\mid ham)$ in the email with some other words with low $P(w_j \\mid spam)$ or high $P(w_j \\mid ham)$. If the core idea of the email made some words with high $P(w_j \\mid spam)$ or low $P(w_j \\mid ham)$ inevtiable. I would add redundant sentences with words have low $P(w_j \\mid spam)$ or high $P(w_j \\mid ham)$ to weaken the effect of bad words."
   ]
  },
  {
   "cell_type": "code",
   "execution_count": null,
   "metadata": {},
   "outputs": [],
   "source": []
  }
 ],
 "metadata": {
  "kernelspec": {
   "display_name": "Python 3",
   "language": "python",
   "name": "python3"
  },
  "language_info": {
   "codemirror_mode": {
    "name": "ipython",
    "version": 3
   },
   "file_extension": ".py",
   "mimetype": "text/x-python",
   "name": "python",
   "nbconvert_exporter": "python",
   "pygments_lexer": "ipython3",
   "version": "3.7.3"
  },
  "latex_envs": {
   "LaTeX_envs_menu_present": true,
   "autoclose": false,
   "autocomplete": true,
   "bibliofile": "biblio.bib",
   "cite_by": "apalike",
   "current_citInitial": 1,
   "eqLabelWithNumbers": true,
   "eqNumInitial": 1,
   "hotkeys": {
    "equation": "Ctrl-E",
    "itemize": "Ctrl-I"
   },
   "labels_anchors": false,
   "latex_user_defs": false,
   "report_style_numbering": false,
   "user_envs_cfg": false
  },
  "toc": {
   "base_numbering": 1,
   "nav_menu": {},
   "number_sections": true,
   "sideBar": true,
   "skip_h1_title": false,
   "title_cell": "Table of Contents",
   "title_sidebar": "Contents",
   "toc_cell": false,
   "toc_position": {},
   "toc_section_display": true,
   "toc_window_display": false
  },
  "varInspector": {
   "cols": {
    "lenName": 16,
    "lenType": 16,
    "lenVar": 40
   },
   "kernels_config": {
    "python": {
     "delete_cmd_postfix": "",
     "delete_cmd_prefix": "del ",
     "library": "var_list.py",
     "varRefreshCmd": "print(var_dic_list())"
    },
    "r": {
     "delete_cmd_postfix": ") ",
     "delete_cmd_prefix": "rm(",
     "library": "var_list.r",
     "varRefreshCmd": "cat(var_dic_list()) "
    }
   },
   "types_to_exclude": [
    "module",
    "function",
    "builtin_function_or_method",
    "instance",
    "_Feature"
   ],
   "window_display": false
  }
 },
 "nbformat": 4,
 "nbformat_minor": 2
}
