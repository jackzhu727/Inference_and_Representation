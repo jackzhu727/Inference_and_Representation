{
 "cells": [
  {
   "cell_type": "markdown",
   "metadata": {},
   "source": [
    "## Simulate 3.e with Viterbi Algorithm"
   ]
  },
  {
   "cell_type": "code",
   "execution_count": 1,
   "metadata": {
    "ExecuteTime": {
     "end_time": "2019-09-16T03:23:42.176863Z",
     "start_time": "2019-09-16T03:23:42.156128Z"
    }
   },
   "outputs": [
    {
     "name": "stdout",
     "output_type": "stream",
     "text": [
      "{'Happy': 0.9818281818181818, 'Angry': 0.018171818181818233}\n",
      "['Happy', 'Angry', 'Angry', 'Angry', 'Angry']\n",
      "{'Happy': 0.9818081818181819, 'Angry': 0.018191818181818142}\n",
      "['Angry', 'Angry', 'Angry', 'Angry', 'Angry']\n"
     ]
    }
   ],
   "source": [
    "states = ('Happy', 'Angry')\n",
    "observations = ('smile', 'frown', 'laugh', 'yell')\n",
    "transition_probability = {\n",
    "   'Happy' : {'Happy': 0.9, 'Angry': 0.1},\n",
    "   'Angry' :   {'Happy': 0.1, 'Angry': 0.9},\n",
    "   }\n",
    "emission_probability = {\n",
    "   'Happy' : {'smile': 0.6, 'frown': 0.1, 'laugh': 0.2, 'yell':0.1},\n",
    "   'Angry'   : {'smile': 0.1, 'frown': 0.6, 'laugh': 0.1,  'yell': 0.2},\n",
    "   }\n",
    "\n",
    "def Viterbit(obs, states, s_pro, t_pro, e_pro):\n",
    "    path = { s:[] for s in states} # init path: path[s] represents the path ends with s\n",
    "    curr_pro = {}\n",
    "    for s in states:\n",
    "        curr_pro[s] = s_pro[s]*e_pro[s][obs[0]]\n",
    "    for i in range(1, len(obs)):\n",
    "        last_pro = curr_pro\n",
    "        curr_pro = {}\n",
    "        for curr_state in states:\n",
    "            max_pro, last_sta = max(((last_pro[last_state]*t_pro[last_state][curr_state]*e_pro[curr_state][obs[i]], last_state) \n",
    "                                       for last_state in states))\n",
    "            curr_pro[curr_state] = max_pro\n",
    "            path[curr_state].append(last_sta)\n",
    "\n",
    "    # find the final largest probability\n",
    "    max_pro = -1\n",
    "    max_path = None\n",
    "    for s in states:\n",
    "        path[s].append(s)\n",
    "        if curr_pro[s] > max_pro:\n",
    "            max_path = path[s]\n",
    "            max_pro = curr_pro[s]\n",
    "    return max_path\n",
    "\n",
    "\n",
    "if __name__ == '__main__':\n",
    "    obs = ['frown', 'frown', 'frown','frown','frown']\n",
    "    # Test for the threshold\n",
    "    p_list = [54/55 + 1e-5, 54/55 - 1e-5]\n",
    "    for p in p_list:\n",
    "        start_probability = {'Happy': p, 'Angry': 1-p}\n",
    "        print(start_probability)\n",
    "        print (Viterbit(obs, states, start_probability, transition_probability, emission_probability))"
   ]
  },
  {
   "cell_type": "code",
   "execution_count": null,
   "metadata": {},
   "outputs": [],
   "source": []
  }
 ],
 "metadata": {
  "kernelspec": {
   "display_name": "Python 3",
   "language": "python",
   "name": "python3"
  },
  "language_info": {
   "codemirror_mode": {
    "name": "ipython",
    "version": 3
   },
   "file_extension": ".py",
   "mimetype": "text/x-python",
   "name": "python",
   "nbconvert_exporter": "python",
   "pygments_lexer": "ipython3",
   "version": "3.7.3"
  },
  "latex_envs": {
   "LaTeX_envs_menu_present": true,
   "autoclose": false,
   "autocomplete": true,
   "bibliofile": "biblio.bib",
   "cite_by": "apalike",
   "current_citInitial": 1,
   "eqLabelWithNumbers": true,
   "eqNumInitial": 1,
   "hotkeys": {
    "equation": "Ctrl-E",
    "itemize": "Ctrl-I"
   },
   "labels_anchors": false,
   "latex_user_defs": false,
   "report_style_numbering": false,
   "user_envs_cfg": false
  },
  "toc": {
   "base_numbering": 1,
   "nav_menu": {},
   "number_sections": true,
   "sideBar": true,
   "skip_h1_title": false,
   "title_cell": "Table of Contents",
   "title_sidebar": "Contents",
   "toc_cell": false,
   "toc_position": {},
   "toc_section_display": true,
   "toc_window_display": false
  },
  "varInspector": {
   "cols": {
    "lenName": 16,
    "lenType": 16,
    "lenVar": 40
   },
   "kernels_config": {
    "python": {
     "delete_cmd_postfix": "",
     "delete_cmd_prefix": "del ",
     "library": "var_list.py",
     "varRefreshCmd": "print(var_dic_list())"
    },
    "r": {
     "delete_cmd_postfix": ") ",
     "delete_cmd_prefix": "rm(",
     "library": "var_list.r",
     "varRefreshCmd": "cat(var_dic_list()) "
    }
   },
   "types_to_exclude": [
    "module",
    "function",
    "builtin_function_or_method",
    "instance",
    "_Feature"
   ],
   "window_display": false
  }
 },
 "nbformat": 4,
 "nbformat_minor": 2
}
